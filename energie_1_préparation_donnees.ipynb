{
 "cells": [
  {
   "cell_type": "code",
   "execution_count": 1,
   "id": "fcac42bc",
   "metadata": {},
   "outputs": [],
   "source": [
    "import pandas as pd\n",
    "import geopandas as gpd\n",
    "import numpy as np\n",
    "\n",
    "import warnings\n",
    "warnings.filterwarnings('ignore')"
   ]
  },
  {
   "cell_type": "code",
   "execution_count": 2,
   "id": "28f7035b",
   "metadata": {},
   "outputs": [],
   "source": [
    "#Objectif : à partir des sources disponibles constituer un fichier des consommations d'énergie , éléctricité \n",
    "#et gaz naturel à la maille EPCI.\n",
    "#La définition des EPCI sera celle en vigueur au début 2023 ( mise à jour INSEE)\n",
    "#Elle sera appliquée sur tout l'historique des données de manière à raisonner à périmètre stable"
   ]
  },
  {
   "cell_type": "code",
   "execution_count": 3,
   "id": "80770599",
   "metadata": {},
   "outputs": [],
   "source": [
    "#Sources de données :Consommation annuelle d’électricité et gaz par IRIS et par secteur d’activité\n",
    "\n",
    "#https://www.data.gouv.fr/fr/datasets/consommation-annuelle-delectricite-et-gaz-par-iris-et-par-secteur-dactivite/#/resources\n",
    "\n",
    "\n",
    "#via Agence ORE\n",
    "\"\"\"\n",
    "L’Agence ORE regroupe tous les acteurs de la distribution d’électricité et de gaz en France (plus de 125 entités)\n",
    ", qui coopèrent avec un objectif commun : répondre aux nouveaux enjeux numériques de la transition énergétique.\n",
    "Association de service public, ses principales missions sont de :\n",
    "   -Faciliter et fluidifier le fonctionnement des marchés de l’électricité et du gaz\n",
    "   -Proposer une offre de données agrégées au service de la transition énergétique, à destination des acteurs des territoires\n",
    "   et de l'innovation\n",
    "\n",
    "\n",
    "Description du jeu de données:\n",
    "\n",
    "Permet de visualiser l’évolution de 2011 à 2021 des consommations d'électricité et de gaz par secteur d'activité (résidentiel, \n",
    "tertiaire, industriel, agricole ou non affecté) et par IRIS.\n",
    "\n",
    "Le jeu de données décrit aussi le nombre de points de livraison par maille géographique.\n",
    "\n",
    "Les données sont ventilées sur le référentiel INSEE au 1er janvier 2021.\n",
    "\n",
    "Ces données sont publiées dans le respect des règles relatives à la protection des Informations Commercialement Sensibles.\n",
    "\n",
    "\"\"\"\n",
    "conso_an_secteur=pd.read_csv(r\"C:\\DATA\\énergie\\conso-elec-gaz-annuelle-par-secteur-dactivite-agregee-iris.csv\",sep=\";\")\n"
   ]
  },
  {
   "cell_type": "code",
   "execution_count": 4,
   "id": "345025e7",
   "metadata": {},
   "outputs": [],
   "source": [
    "#Descriptif issu des méta-données\n",
    "\n",
    "\"\"\"\n",
    "Description du fichier\n",
    "\n",
    "Opérateur: operateur[text] Nom de l’opérateur, qu’il soit distributeur ou transporteur\n",
    "\n",
    "Année: annee[date] Année\n",
    "\n",
    "Filière: filiere[text] Énergie concernée (Electricité ou Gaz)\n",
    "\n",
    "Consommation Agriculture (MWh): consoa[double] Consommation dans l’agriculture (MWh). Nombre positif ou nul.\n",
    "\n",
    "Nombre de points Agriculture: pdla[int] Nombre de points de livraison dans l’agriculture.\n",
    "Nombre entier.\n",
    "\n",
    "Nombre de mailles secretisées (agriculture): nombre_maille_secretisees_a[int] Cette colonne apporte une information sur l’écart\n",
    "que la sécretisation a générée sur la somme de consommation du secteur agricole.\n",
    "Ex. La consommation sur la maille commune est calculée comme la somme des consommations des IRIS composant la commune.\n",
    "Si 2 mailles sont secretisées, l’agrégat de la commune contient la valeur “2” dans cette colonne.\n",
    "Il est donc possible de déduire que l’erreur maximale sur la somme des consommations à cette maille est soit de 400 MWh\n",
    "(200 MWh 2) soit 20 PDL (102).\n",
    "\n",
    "Indique qualité Agriculture: indquala[double] Pourcentage de la consommation annuelle dans l’agriculture qui est mesurée du\n",
    "1er janvier au 31 décembre. Il est compris entre 0 et 1.\n",
    "\n",
    "Consommation Industrie (MWh): consoi[double] Consommation dans l’industrie (MWh). Nombre positif ou nul.\n",
    "\n",
    "Nombre de points Industrie: pdli[int] Nombre de points de livraison dans l’industrie.\n",
    "Nombre entier.\n",
    "\n",
    "Nombre de mailles secretisées (industrie): nombre_maille_secretisees_i[int] Cette colonne apporte une information sur l’écart que la sécretisation a générée sur la somme de consommation du secteur industriel.\n",
    "Ex. La consommation sur la maille commune est calculée comme la somme des consommations des IRIS composant la commune.\n",
    "Si 2 mailles sont secretisées, l’agrégat de la commune contient la valeur “2” dans cette colonne.\n",
    "Il est donc possible de déduire que l’erreur maximale sur la somme des consommations à cette maille est soit de 400 MWh (200 MWh 2) soit 20 PDL (102).\n",
    "\n",
    "Indice qualité Industrie: indquali[double] Pourcentage de la consommation annuelle dans l’industrie qui est mesurée du 1er janvier au 31 décembre. Il est compris entre 0 et 1.\n",
    "\n",
    "Consommation Tertiaire (MWh): consot[double] Consommation dans le tertiaire (MWh). Nombre positif ou nul.\n",
    "\n",
    "Nombre de points Tertiaire: pdlt[int] Nombre de points de livraison dans le tertiaire.\n",
    "Nombre entier.\n",
    "\n",
    "Nombre de mailles secretisées (tertiaire): nombre_maille_secretisees_t[int] \"Cette colonne apporte une information sur l’écart que la sécretisation a générée sur la somme de consommation du secteur tertiaire.\n",
    "Ex. La consommation sur la maille commune est calculée comme la somme des consommations des IRIS composant la commune.\n",
    "Si 2 mailles sont secretisées, l’agrégat de la commune contient la valeur “2” dans cette colonne.\n",
    "Il est donc possible de déduire que l’erreur maximale sur la somme des consommations à cette maille est soit de 400 MWh (200 MWh 2) soit 20 PDL (102).\n",
    "\n",
    "Indice qualité Tertiaire: indqualt[double] Pourcentage de la consommation annuelle dans le tertiaire qui est mesurée du 1er janvier au 31 décembre. Il est compris entre 0 et 1.\n",
    "\n",
    "Consommation Résidentiel (MWh): consor[double] Consommation dans le résidentiel (MWh). Nombre positif ou nul.\n",
    "\n",
    "Nombre de points Résidentiel: pdlr[int] Nombre de points de livraison dans le résidentiel. Nombre entier, positif ou nul.\n",
    "\n",
    "Nombre de mailles secretisées (résidentiel): nombre_maille_secretisees_r[int] Cette colonne apporte une information sur l’écart que la sécretisation a générée sur la somme de consommation du secteur résidentiel.\n",
    "Ex. La consommation sur la maille commune est calculée comme la somme des consommations des IRIS composant la commune.\n",
    "Si 2 mailles sont secretisées, l’agrégat de la commune contient la valeur “2” dans cette colonne.\n",
    "Il est donc possible de déduire que l’erreur maximale sur la somme des consommations à cette maille est soit de 400 MWh (200 MWh 2) soit 20 PDL (102).\n",
    "\n",
    "Indice qualité Résidentiel: indqualr[double] Pourcentage de la consommation annuelle dans le résidentiel qui est mesurée du 1er janvier au 31 décembre. Il est compris entre 0 et 1.\n",
    "\n",
    "Thermosensibilité (MWh/degré-jour): thermor[double] En MWh/degré-jour à la maille IRIS : variation de la consommation journalière en MWh due à une variation de 1°C de la température, pour les températures inférieures à la température seuil faisant référence pour l’IRIS considéré (voir note méthodologique).\n",
    "\n",
    "Part Thermosensible: partr[double] En %, à la maille IRIS : pourcentage de la consommation totale que l’on considère sensible à la température.\n",
    "\n",
    "Consommation Secteur Inconnu (MWh): consona[double] Consommation non affectée dans l’un des quatre autres secteurs (MWh). Nombre entier, positif ou nul.\n",
    "\n",
    "Nombre de points Secteur Inconnu: pdlna[int] Nombre de points de livraison non affectés dans l’un des quatre autres secteurs. Nombre entier, positif ou nul.\n",
    "\n",
    "Nombre de mailles secretisées (secteur inconnu): nombre_maille_secretisees_na[int] Cette colonne apporte une information sur l’écart que la sécretisation a générée sur la somme de consommation du secteur inconnu.\n",
    "Ex. La consommation sur la maille commune est calculée comme la somme des consommations des IRIS composant la commune.\n",
    "Si 2 mailles sont secretisées, l’agrégat de la commune contient la valeur “2” dans cette colonne.\n",
    "Il est donc possible de déduire que l’erreur maximale sur la somme des consommations à cette maille est soit de 400 MWh (200 MWh 2) soit 20 PDL (102).\n",
    "\n",
    "Indice qualité Non Affecté: indqualna[double] Pourcentage de la consommation annuelle dans le secteur inconnu qui est mesurée du 1er janvier au 31 décembre. Il est compris entre 0 et 1.\n",
    "\n",
    "Code IRIS: code_iris[text] Code de l’IRIS\n",
    "\n",
    "Libellé IRIS: libelle_iris[text] Libellé de l’IRIS\n",
    "\n",
    "Code Commune: code_commune[text] Code INSEE de la commune\n",
    "\n",
    "Libellé Commune: libelle_commune[text] Libellé de la commune\n",
    "\n",
    "Code EPCI: code_epci[text] Code EPCI de la commune\n",
    "\n",
    "Libellé EPCI: libelle_epci[text] Libellé EPCI de la commune\n",
    "\n",
    "Code Département: code_departement[text] Code du département de la commune\n",
    "\n",
    "Libellé Département: libelle_departement[text] Libellé du département de la commune\n",
    "\n",
    "Code Région: code_region[int] Code Région de la commune\n",
    "\n",
    "Libellé Région: libelle_region[text] Libellé Région de la commune\n",
    "\n",
    "id_filiere: id_filiere[int] Identifiant de la filière d’énergie\n",
    "\n",
    "Consommation Totale (MWh): consototale[double] Consommation totale (MWh)\n",
    "\n",
    "\n",
    "SECRETISATION DES DONNEES ET UTILISATION DES LIGNES EPCI/REGION:\n",
    "\n",
    "Les textes réglementaires prévoient que les données dans le secteur du résidentiel ne peuvent être \n",
    "diffusées si le nombre de points de livraison est inférieur à 11 et la consommation résidentielle inférieure \n",
    "ou égale à 200 MWh. \n",
    "\n",
    "Pour ces cas, la secrétisation est réalisée selon la procédure suivante : \n",
    "- la consommation du secteur résidentiel (CONSOR) prend la valeur -99 ;\n",
    "- le nombre de points de livraison du résidentiel (PDLR) prend la valeur -99 ;\n",
    "- le total des valeurs secrétisées est regroupé par intercommunalité et par région afin de permettre\n",
    "de calculer des totaux pour ces deux mailles géographiques. Des lignes dont le type est N InterCom O \n",
    "(pour les EPCI) et N Region O (région) ont été ajoutées avec les totaux des IRIS ou communes secrétisés \n",
    "pour pouvoir faire des totaux à ces niveaux géographiques. \n",
    "\n",
    "Lorsqu’une ligne EPCI est présente, cela signifie qu’il y a des communes ou des IRIS qui la composent \n",
    "qui ont des données masquées. La ligne EPCI correspond à la somme de ces données masquées. \n",
    "Cependant, une ligne EPCI n’est pas diffusée si la somme de ces données masquées correspond à un \n",
    "nombre de points de livraison inférieur à 11 et à une consommation résidentielle inférieure ou égale à\n",
    "200 MWh. \n",
    "\n",
    "Lorsqu’une ligne région est présente, cela signifie qu’il y a des communes ou des IRIS qui la \n",
    "composent qui ont des données masquées et que par ailleurs tout ou partie de ces données masquées \n",
    "n’ont pas pu être diffusées à l’échelon EPCI. La ligne région correspond alors à la somme de ces données \n",
    "masquées qui n’ont pas pu être diffusées à la maille EPCI. \n",
    "\n",
    "Pour calculer le total pour un EPCI, il faut sommer les agrégats non masqués des IRIS/communes qui \n",
    "composent cet EPCI et la ligne de cet EPCI (si elle n’est pas masquée elle-même). \n",
    "Pour calculer le total pour une région, il faut sommer les agrégats non masqués des IRIS/communes \n",
    "qui composent cette région et la ligne éventuelle de cette région. \n",
    "Pour calculer le total France entière, il faut sommer les agrégats non masqués des IRIS/communes, \n",
    "ainsi que les lignes éventuelles des EPCI et des régions. \n",
    "\n",
    "\n",
    "Définition Insee de l' EPCI :Établissement public de coopération intercommunale\n",
    "\n",
    "\"\"\"\n",
    "\n",
    "\"\"\"\n",
    "Infos sur les secteurs :\n",
    "\n",
    "Le code NAF à deux niveaux (divisions) se réfère à la nomenclature d'activités française révision 2\n",
    "(NAF rév. 2, 2008) présentée sur le site de l’Insee : https://www.insee.fr/fr/information/2120875.\n",
    "La correspondance entre la NAF à 2 niveaux (à 2 chiffres) et les grands secteurs d’activité est la\n",
    "suivante.\n",
    "Agriculture : 01, 02, 03\n",
    "Industrie : 05, 06, 07, 08, 09, 10, 11, 12, 13, 14, 15, 16, 17, 18, 19, 20, 21, 22, 23, 24, 25, 26, 27, 28, 29, 30,\n",
    "31, 32, 35, 41, 42, 43\n",
    "Tertiaire : 33, 36, 37, 38, 39, 45, 46, 47, 49, 50, 51, 52, 53, 55, 56, 58, 59, 60, 61, 62, 63, 64, 65, 66, 68,\n",
    "69, 70, 71, 72, 73, 74, 75, 77, 78, 79, 80, 81, 82, 84, 85, 86, 87, 88, 90, 91, 92, 93, 94, 95, 96, 97, 98, 99\n",
    "\n",
    "\n",
    "\"\"\"\n",
    "conso_an_secteur=conso_an_secteur.rename(\n",
    "    {\n",
    "    \"consoa\":\"conso_agri\",\n",
    "    \"consot\":\"conso_ter\",\n",
    "    \"consoi\":\"conso_indus\",\n",
    "    \"consor\":\"conso_resid\",\n",
    "    \"consona\":\"conso_nonaff\",\n",
    "    \"consototale\":\"conso_totale\"\n",
    "    },\n",
    "    axis=1)\n",
    "\n",
    "#Mise au format des codes communes et codes département\n",
    "conso_an_secteur['code_commune']=conso_an_secteur['code_commune'].apply(lambda x: \"0\"+str(x) if len(str(x))<5 else str(x))\n",
    "conso_an_secteur['code_departement']=conso_an_secteur['code_departement'].apply(lambda x: str(x))\n"
   ]
  },
  {
   "cell_type": "code",
   "execution_count": 24,
   "id": "3d2abf30",
   "metadata": {},
   "outputs": [
    {
     "data": {
      "text/plain": [
       "Index(['operateur', 'annee', 'filiere', 'conso_agri', 'pdla',\n",
       "       'nombre_maille_secretisees_a', 'indquala', 'conso_indus', 'pdli',\n",
       "       'nombre_maille_secretisees_i', 'indquali', 'conso_ter', 'pdlt',\n",
       "       'nombre_maille_secretisees_t', 'indqualt', 'conso_resid', 'pdlr',\n",
       "       'nombre_maille_secretisees_r', 'indqualr', 'thermor', 'partr',\n",
       "       'conso_nonaff', 'pdlna', 'nombre_maille_secretisees_na', 'indqualna',\n",
       "       'code_iris', 'libelle_iris', 'code_commune', 'libelle_commune',\n",
       "       'code_epci', 'libelle_epci', 'code_departement', 'libelle_departement',\n",
       "       'code_region', 'libelle_region', 'id_filiere', 'conso_totale'],\n",
       "      dtype='object')"
      ]
     },
     "execution_count": 24,
     "metadata": {},
     "output_type": "execute_result"
    }
   ],
   "source": [
    "conso_an_secteur.columns"
   ]
  },
  {
   "cell_type": "code",
   "execution_count": 25,
   "id": "c8fa913d",
   "metadata": {},
   "outputs": [],
   "source": [
    "#Autres sources pour les informations communes et epci\n",
    "\n",
    "#Liste officielle des communes : Code officiel Géographique\n",
    "liste_commune=pd.read_csv(r\"C:\\DATA\\contours_cartes\\COG_insee_commune.csv\")\n",
    "\n",
    "#Liste officielle des ecpi avec la nature des epci ( 1ère feuille du fichier insee))\n",
    "liste_epci=pd.read_excel(r\"C:\\DATA\\contours_cartes\\reference_Intercommunalite_Metropole_au_01-01-2023.ods\",\n",
    "                         sheet_name=0,header=5)\n",
    "\n",
    "\n",
    "\n",
    "#Liste officielle des epci par commune\n",
    "liste_commune_epci=pd.read_csv(\"C:\\DATA\\contours_cartes\\liste_communes_epci.csv\")\n",
    "liste_commune_epci=liste_commune_epci[[\"code_commune\",\"libelle_commune\",\"code_epci\"]]\n",
    "\n",
    "#Informations surface et population des communes\n",
    "donnees_communes=gpd.read_file(r\"C:\\DATA\\contours_cartes\\donnees_communes.geojson\")\n",
    "donnees_communes=donnees_communes[[\"INSEE_COM\",\"superficie\",\"P19_POP\"]]\n",
    "\n",
    "#Mise au format des différents codes\n",
    "\n",
    "liste_epci[\"EPCI\"]=liste_epci[\"EPCI\"].astype(\"str\")\n",
    "liste_commune_epci[\"code_epci\"]=liste_commune_epci[\"code_epci\"].astype(\"str\")\n",
    "liste_commune_epci['code_commune']=liste_commune_epci['code_commune'].apply(lambda x: \"0\"+str(x) if len(str(x))<5 else str(x))"
   ]
  },
  {
   "cell_type": "code",
   "execution_count": 26,
   "id": "37f73130",
   "metadata": {},
   "outputs": [],
   "source": [
    "#Transformations et Vérifications du dataframe conso_an_secteur"
   ]
  },
  {
   "cell_type": "code",
   "execution_count": 27,
   "id": "664453c4",
   "metadata": {},
   "outputs": [
    {
     "name": "stdout",
     "output_type": "stream",
     "text": [
      "<class 'pandas.core.frame.DataFrame'>\n",
      "Int64Index: 826594 entries, 0 to 830339\n",
      "Data columns (total 12 columns):\n",
      " #   Column        Non-Null Count   Dtype  \n",
      "---  ------        --------------   -----  \n",
      " 0   operateur     826594 non-null  object \n",
      " 1   annee         826594 non-null  int64  \n",
      " 2   filiere       826594 non-null  object \n",
      " 3   conso_agri    826594 non-null  float64\n",
      " 4   conso_indus   826594 non-null  float64\n",
      " 5   conso_ter     826594 non-null  float64\n",
      " 6   conso_resid   826594 non-null  float64\n",
      " 7   conso_nonaff  826594 non-null  float64\n",
      " 8   code_iris     826594 non-null  object \n",
      " 9   code_commune  826594 non-null  object \n",
      " 10  id_filiere    826594 non-null  int64  \n",
      " 11  conso_totale  826594 non-null  float64\n",
      "dtypes: float64(6), int64(2), object(4)\n",
      "memory usage: 82.0+ MB\n"
     ]
    }
   ],
   "source": [
    "#Côté \"géographique\":On ne conserve que les codes communes et IRIS avant de faire un premier niveau de regroupement par code commune\n",
    "#Après filtrage des département 971 à 976\n",
    "departements=list([\"971\",\"972\",\"973\",\"974\",\"975\",\"976\"])\n",
    "conso_an_secteur=conso_an_secteur[~conso_an_secteur[\"code_departement\"].isin (departements)]\n",
    "conso_an_secteur=conso_an_secteur.drop([\"pdla\",'nombre_maille_secretisees_a','indquala',\n",
    "                                        'pdli','nombre_maille_secretisees_i', 'indquali',\n",
    "                                        'pdlt','nombre_maille_secretisees_t', 'indqualt',\n",
    "                                        'pdlr','nombre_maille_secretisees_r', 'indqualr', 'thermor', 'partr',\n",
    "                                        'pdlna', 'nombre_maille_secretisees_na', 'indqualna',\n",
    "                                       \"libelle_iris\",\"libelle_commune\",\"code_epci\",\"libelle_epci\",\n",
    "                                       \"code_departement\",\"libelle_departement\",\"code_region\",\"libelle_region\" ],axis=1)\n",
    "\n",
    "conso_an_secteur.info()"
   ]
  },
  {
   "cell_type": "code",
   "execution_count": 28,
   "id": "64aec178",
   "metadata": {},
   "outputs": [
    {
     "name": "stdout",
     "output_type": "stream",
     "text": [
      "Total des écarts sur la vérification du total : -2.442252267087497e-08\n"
     ]
    }
   ],
   "source": [
    "#Comparaison du total de conso totale avec la somme des totaux des conso par secteur\n",
    "df_verif=conso_an_secteur[[\"conso_agri\",\"conso_ter\",\"conso_indus\",\"conso_resid\",\"conso_nonaff\",\"conso_totale\"]]\n",
    "\n",
    "df_verif[\"verif_total\"]=df_verif[\"conso_agri\"]+df_verif[\"conso_ter\"]+df_verif[\"conso_indus\"]+df_verif[\"conso_resid\"]+df_verif[\"conso_nonaff\"]-df_verif[\"conso_totale\"]\n",
    "\n",
    "print(\"Total des écarts sur la vérification du total :\",df_verif[\"verif_total\"].sum())\n",
    "\n",
    "#RAS"
   ]
  },
  {
   "cell_type": "code",
   "execution_count": 29,
   "id": "ee8c198f",
   "metadata": {},
   "outputs": [
    {
     "name": "stdout",
     "output_type": "stream",
     "text": [
      "La valeur du total de consommation en MWh est : 9754648754.5864\n"
     ]
    }
   ],
   "source": [
    "#On calcul un total sur 11 ans des conso totales , pour voir ultérieurement l'effet des manipulations du dataframe\n",
    "total_conso_2011_2021=conso_an_secteur[\"conso_totale\"].sum()\n",
    "\n",
    "print(\"La valeur du total de consommation en MWh est :\",total_conso_2011_2021)\n",
    "\n",
    "#RAS"
   ]
  },
  {
   "cell_type": "code",
   "execution_count": 30,
   "id": "752562ee",
   "metadata": {},
   "outputs": [],
   "source": [
    "#regroupement par commune et filière\n",
    "conso_an_secteur=conso_an_secteur.groupby(['annee', \"code_commune\",'filiere','id_filiere'],as_index=False).agg({\"conso_agri\":\"sum\",\"conso_ter\":\"sum\",\n",
    "                                                                        \"conso_indus\":\"sum\",\"conso_resid\":\"sum\",\"conso_nonaff\":\"sum\",\"conso_totale\":\"sum\"})\n"
   ]
  },
  {
   "cell_type": "code",
   "execution_count": 31,
   "id": "0474c91b",
   "metadata": {},
   "outputs": [
    {
     "name": "stdout",
     "output_type": "stream",
     "text": [
      "<class 'pandas.core.frame.DataFrame'>\n",
      "RangeIndex: 483200 entries, 0 to 483199\n",
      "Data columns (total 10 columns):\n",
      " #   Column        Non-Null Count   Dtype  \n",
      "---  ------        --------------   -----  \n",
      " 0   annee         483200 non-null  int64  \n",
      " 1   code_commune  483200 non-null  object \n",
      " 2   filiere       483200 non-null  object \n",
      " 3   id_filiere    483200 non-null  int64  \n",
      " 4   conso_agri    483200 non-null  float64\n",
      " 5   conso_ter     483200 non-null  float64\n",
      " 6   conso_indus   483200 non-null  float64\n",
      " 7   conso_resid   483200 non-null  float64\n",
      " 8   conso_nonaff  483200 non-null  float64\n",
      " 9   conso_totale  483200 non-null  float64\n",
      "dtypes: float64(6), int64(2), object(2)\n",
      "memory usage: 36.9+ MB\n"
     ]
    }
   ],
   "source": [
    "conso_an_secteur.info()"
   ]
  },
  {
   "cell_type": "code",
   "execution_count": 32,
   "id": "1d75d2be",
   "metadata": {},
   "outputs": [
    {
     "data": {
      "text/plain": [
       "annee           0\n",
       "code_commune    0\n",
       "filiere         0\n",
       "id_filiere      0\n",
       "conso_agri      0\n",
       "conso_ter       0\n",
       "conso_indus     0\n",
       "conso_resid     0\n",
       "conso_nonaff    0\n",
       "conso_totale    0\n",
       "dtype: int64"
      ]
     },
     "execution_count": 32,
     "metadata": {},
     "output_type": "execute_result"
    }
   ],
   "source": [
    "#Valeurs manquantes à ce stade\n",
    "conso_an_secteur.isna().sum()\n",
    "\n",
    "#Aucune valeur manquante"
   ]
  },
  {
   "cell_type": "code",
   "execution_count": 33,
   "id": "0b9ecba1",
   "metadata": {},
   "outputs": [
    {
     "name": "stdout",
     "output_type": "stream",
     "text": [
      "Consommation totale (valeur attendue  9754648754.5864): 9754648754.586397\n"
     ]
    }
   ],
   "source": [
    "#2ème  regroupement : 1 seule ligne  par commune et filière\n",
    "#Les données filières ( électricité et gaz) se retrouvent en ligne\n",
    "df=conso_an_secteur\n",
    "\n",
    "#Ajout d'une variable \"année-commune\" pour la reconstitution ultérieure\n",
    "df[\"annee\"]=df[\"annee\"].astype(\"str\")\n",
    "df[\"annee-commune\"]=df[\"annee\"]+\"-\"+df[\"code_commune\"]\n",
    "df=df.drop([\"annee\",\"code_commune\"],axis=1)\n",
    "\n",
    "#Dataframe electricité\n",
    "df_elec=df[df[\"id_filiere\"]==100]\n",
    "df_elec=df_elec.drop([\"filiere\",\"id_filiere\"],axis=1) \n",
    "for var in df_elec.columns[0:6]:\n",
    "    df_elec=df_elec.rename({var:var+\"_elec\"},axis=1)\n",
    "\n",
    "#Dataframe gaz\n",
    "df_gaz=df[df[\"id_filiere\"]==200]\n",
    "df_gaz=df_gaz.drop([\"filiere\",\"id_filiere\"],axis=1) \n",
    "for var in df_gaz.columns[0:6]:\n",
    "    df_gaz=df_gaz.rename({var:var+\"_gaz\"},axis=1)\n",
    "    \n",
    "#Réinitialisation de  df avec les valeurs uniques de annee-commune pour la reconstitution)\n",
    "df=df[[\"annee-commune\"]].drop_duplicates()\n",
    "\n",
    "df=df.merge(right=df_elec,on=\"annee-commune\",how=\"left\")\n",
    "df=df.merge(right=df_gaz,on=\"annee-commune\",how=\"left\")\n",
    "\n",
    "#les valeurs manquantes issues des fusions sont remplacées par 0\n",
    "df=df.fillna(0)\n",
    "\n",
    "#Ajout des totaux electricité + gaz\n",
    "df[\"conso_agri\"]=df[\"conso_agri_elec\"]+df[\"conso_agri_gaz\"]\n",
    "df[\"conso_ter\"]=df[\"conso_ter_elec\"]+df[\"conso_ter_gaz\"]\n",
    "df[\"conso_indus\"]=df[\"conso_indus_elec\"]+df[\"conso_indus_gaz\"]\n",
    "df[\"conso_resid\"]=df[\"conso_resid_elec\"]+df[\"conso_resid_gaz\"]\n",
    "df[\"conso_nonaff\"]=df[\"conso_nonaff_elec\"]+df[\"conso_nonaff_gaz\"]\n",
    "df[\"conso_totale\"]=df[\"conso_totale_elec\"]+df[\"conso_totale_gaz\"]\n",
    "\n",
    "#Dernière opération : redécommposition de annee-commune\n",
    "df[\"année\"]=df[\"annee-commune\"].apply(lambda x:x.split(\"-\")[0])\n",
    "df[\"code_commune\"]=df[\"annee-commune\"].apply(lambda x:x.split(\"-\")[1])\n",
    "\n",
    "\n",
    "#Vérification sur la conso totale \n",
    "print (\"Consommation totale (valeur attendue  9754648754.5864):\",df[\"conso_totale\"].sum())\n",
    "\n",
    "#Conclusion RAS , pas de perte d'infos"
   ]
  },
  {
   "cell_type": "code",
   "execution_count": 34,
   "id": "bdb4f2ea",
   "metadata": {},
   "outputs": [
    {
     "name": "stdout",
     "output_type": "stream",
     "text": [
      "Le total avant suppression des lignes est en MWh : 9754648754.5864\n",
      "Le total après suppression des lignes est en MWh : 9754635693.626398\n",
      "L'écart avec le total initial est : 13060.960000991821  soit  0.0001338947237321167 %\n"
     ]
    }
   ],
   "source": [
    "#3ième opération : on ramène les infos communes et epci\n",
    "#infos communes\n",
    "df=df.merge(right=liste_commune_epci,on=\"code_commune\",how=\"left\")\n",
    "\n",
    "#il manque des infos sur 18 communes , on enlève les lignes\n",
    "df=df.dropna()\n",
    "#Nouveau_total\n",
    "total=df[\"conso_totale\"].sum()\n",
    "\n",
    "print(\"Le total avant suppression des lignes est en MWh :\",total_conso_2011_2021)\n",
    "print(\"Le total après suppression des lignes est en MWh :\",total)\n",
    "print(\"L'écart avec le total initial est :\",total_conso_2011_2021-total,\" soit \",(total_conso_2011_2021-total)/total_conso_2011_2021*100 , \"%\")\n",
    "\n",
    "#RAS"
   ]
  },
  {
   "cell_type": "code",
   "execution_count": 35,
   "id": "be3a826b",
   "metadata": {},
   "outputs": [],
   "source": [
    "#Infos epci\n",
    "df=df.merge(right=liste_epci,right_on=\"EPCI\",left_on=\"code_epci\",how=\"left\")\n",
    "df=df.drop(\"EPCI\",axis=1)\n",
    "\n",
    "#RAS"
   ]
  },
  {
   "cell_type": "code",
   "execution_count": 36,
   "id": "ed9fdc52",
   "metadata": {},
   "outputs": [],
   "source": [
    "#Infos population et superficie\n",
    "df=df.merge(right=donnees_communes,right_on=\"INSEE_COM\",left_on=\"code_commune\",how=\"left\")\n",
    "df=df.rename({\"LIBEPCI\":\"nom_epci\",\"NATURE_EPCI\":\"nature_epci\",\"NB_COM\":\"nb_com\",\"P19_POP\":\"population\"},axis=1)\n",
    "df=df.drop([\"annee-commune\",\"INSEE_COM\"],axis=1)\n",
    "\n",
    "#il manque des informations sur 10 communes\n",
    "#'02695': Saint-Thibaut dans l'Aisne --> rattachée maintenant  Bazoches-et-Saint-Thibaut, depuis le 1er janvier 2022.\n",
    "#16010': Ambleville au  01/01/2022 : Ambleville devient commune déléguée au sein de Lignières-Ambleville (16186) (commune nouvelle).\n",
    "#'19092': Jardin au 01/01/2022 : Le Jardin est rattachée à Montaignac-Saint-Hippolyte (19143) qui devient Montaignac-sur-Doustre (commune nouvelle).\n",
    "#'24089':01/01/2022 : Cazoulès devient commune déléguée au sein de Pechs-de-l'Espérance (24325) (commune nouvelle).\n",
    "#'24314':01/01/2022 : Orliaguet devient commune déléguée au sein de Pechs-de-l'Espérance (24325) (commune nouvelle).\n",
    "#'25134':01/01/2022 : Châtillon-sur-Lison est rattachée à Cussey-sur-Lison (25185) (commune nouvelle).\n",
    "#'25628':01/01/2022 : Villers-sous-Montrond est rattachée à Mérey-sous-Montrond (25375) qui devient Les Monts-Ronds (commune nouvelle)\n",
    "#'26219':01/01/2022 : Mureils devient commune déléguée au sein de Saint-Jean-de-Galaure (26216) (commune nouvelle)\n",
    "#'56049':01/01/2022 : Croixanvec devient commune déléguée au sein de Saint-Gérand-Croixanvec (56213) (commune nouvelle)\n",
    "#'85307':01/01/2022 : La Faute-sur-Mer devient commune déléguée au sein de L'Aiguillon-la-Presqu'île (85001) (commune nouvelle).\n",
    "\n",
    "# on met les 2 paramètres à 0 pour ces communes , parce qu'elles sont déjà comprises dans les communes nouvelles.\n",
    "#Ce sera neutre au moment de l'aggrégation au niveau des EPCI\n",
    "\n",
    "\n",
    "df=df.fillna(0)\n"
   ]
  },
  {
   "cell_type": "code",
   "execution_count": 37,
   "id": "56aff121",
   "metadata": {},
   "outputs": [
    {
     "data": {
      "text/plain": [
       "conso_agri_elec      0\n",
       "conso_ter_elec       0\n",
       "conso_indus_elec     0\n",
       "conso_resid_elec     0\n",
       "conso_nonaff_elec    0\n",
       "conso_totale_elec    0\n",
       "conso_agri_gaz       0\n",
       "conso_ter_gaz        0\n",
       "conso_indus_gaz      0\n",
       "conso_resid_gaz      0\n",
       "conso_nonaff_gaz     0\n",
       "conso_totale_gaz     0\n",
       "conso_agri           0\n",
       "conso_ter            0\n",
       "conso_indus          0\n",
       "conso_resid          0\n",
       "conso_nonaff         0\n",
       "conso_totale         0\n",
       "année                0\n",
       "code_commune         0\n",
       "libelle_commune      0\n",
       "code_epci            0\n",
       "nom_epci             0\n",
       "nature_epci          0\n",
       "nb_com               0\n",
       "superficie           0\n",
       "population           0\n",
       "dtype: int64"
      ]
     },
     "execution_count": 37,
     "metadata": {},
     "output_type": "execute_result"
    }
   ],
   "source": [
    "df.isna().sum()"
   ]
  },
  {
   "cell_type": "code",
   "execution_count": 38,
   "id": "52d12117",
   "metadata": {},
   "outputs": [],
   "source": [
    "#Export du fichier\n",
    "\n",
    "df.to_csv(r\"C:\\DATA\\énergie\\conso_an_secteur.csv\",index=False)"
   ]
  }
 ],
 "metadata": {
  "kernelspec": {
   "display_name": "Python 3 (ipykernel)",
   "language": "python",
   "name": "python3"
  },
  "language_info": {
   "codemirror_mode": {
    "name": "ipython",
    "version": 3
   },
   "file_extension": ".py",
   "mimetype": "text/x-python",
   "name": "python",
   "nbconvert_exporter": "python",
   "pygments_lexer": "ipython3",
   "version": "3.10.8"
  }
 },
 "nbformat": 4,
 "nbformat_minor": 5
}
